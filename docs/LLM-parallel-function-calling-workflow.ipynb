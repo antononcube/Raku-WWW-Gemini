{
 "cells": [
  {
   "cell_type": "markdown",
   "id": "4f19be3f",
   "metadata": {},
   "source": [
    "# Using Gemini's Function Calling\n",
    "\n",
    "## *Parallel calling*\n",
    "\n",
    "Anton Antonov   \n",
    "[RakuForPrediction at WordPress](https://rakuforprediction.wordpress.com)   \n",
    "June 2025"
   ]
  },
  {
   "cell_type": "markdown",
   "id": "d5db6a8c",
   "metadata": {},
   "source": [
    "-----\n",
    "\n",
    "## Introduction"
   ]
  },
  {
   "cell_type": "markdown",
   "id": "8b47dbde",
   "metadata": {},
   "source": [
    "This notebook shows how to do [Function Calling](https://ai.google.dev/gemini-api/docs/function-calling) workflows with Large Language Models (LLMs) of Gemini. \n",
    "\n",
    "(The Raku package [\"WWW::Gemini\"](https://github.com/antononcube/Raku-WWW-Gemini) is used.)"
   ]
  },
  {
   "cell_type": "markdown",
   "id": "b0bcc90a",
   "metadata": {},
   "source": [
    "-----\n",
    "\n",
    "## Setup"
   ]
  },
  {
   "cell_type": "markdown",
   "id": "7fe460b7",
   "metadata": {},
   "source": [
    "Load packages:"
   ]
  },
  {
   "cell_type": "code",
   "execution_count": 1,
   "id": "f8afa369",
   "metadata": {},
   "outputs": [],
   "source": [
    "use WWW::Gemini;\n",
    "use JSON::Fast;\n",
    "use LLM::Tooling;"
   ]
  },
  {
   "cell_type": "markdown",
   "id": "515092ec",
   "metadata": {},
   "source": [
    "Choose a model:"
   ]
  },
  {
   "cell_type": "code",
   "execution_count": 2,
   "id": "adbe3cca",
   "metadata": {},
   "outputs": [
    {
     "data": {
      "text/plain": [
       "gemini-2.0-flash"
      ]
     },
     "execution_count": 2,
     "metadata": {},
     "output_type": "execute_result"
    }
   ],
   "source": [
    "my $model = \"gemini-2.0-flash\";\n",
    "#my $model = \"gemini-2.5-flash-preview-05-20\";"
   ]
  },
  {
   "cell_type": "markdown",
   "id": "559fdce8",
   "metadata": {},
   "source": [
    "------\n",
    "\n",
    "## Workflow"
   ]
  },
  {
   "cell_type": "markdown",
   "id": "af53047d",
   "metadata": {},
   "source": [
    "### Define a local function"
   ]
  },
  {
   "cell_type": "markdown",
   "id": "db82d074",
   "metadata": {},
   "source": [
    "Define a few _tools_:"
   ]
  },
  {
   "cell_type": "code",
   "execution_count": 4,
   "id": "3e5eda70",
   "metadata": {},
   "outputs": [
    {
     "data": {
      "text/plain": [
       "&dim-lights-impl"
      ]
     },
     "execution_count": 4,
     "metadata": {},
     "output_type": "execute_result"
    }
   ],
   "source": [
    "#| Powers the spinning disco ball.\n",
    "sub power-disco-ball-impl(\n",
    "    Int:D $power #= Whether to turn the disco ball on or off.\n",
    "    ) returns Hash {\n",
    "    return { status => \"Disco ball powered \" ~ ($power ?? 'on' !! 'off') };\n",
    "}\n",
    "#= A status dictionary indicating the current state.\n",
    "\n",
    "#| Play some music matching the specified parameters.\n",
    "sub start-music-impl(\n",
    "    Int:D $energetic, #=  Whether the music is energetic or not.\n",
    "    Int:D $loud       #= Whether the music is loud or not.\n",
    "    ) returns Hash {\n",
    "    my $music-type = $energetic ?? 'energetic' !! 'chill';\n",
    "    my $volume = $loud ?? 'loud' !! 'quiet';\n",
    "    return { music_type => $music-type, volume => $volume };\n",
    "    #= A dictionary containing the music settings.\n",
    "}\n",
    "\n",
    "#| Dim the lights.\n",
    "sub dim-lights-impl(\n",
    "    Numeric:D $brightness #= The brightness of the lights, 0.0 is off, 1.0 is full.\n",
    "    ) returns Hash {\n",
    "    return { brightness => $brightness };\n",
    "}\n",
    "#= A dictionary containing the new brightness setting."
   ]
  },
  {
   "cell_type": "code",
   "execution_count": 5,
   "id": "06bac237",
   "metadata": {},
   "outputs": [
    {
     "data": {
      "text/plain": [
       "${:description(\"Dim the lights.\"), :name(\"dim-lights-impl\"), :parameters(${:additionalProperties(Bool::False), :properties(${\"\\$brightness\" => ${:description(\"The brightness of the lights, 0.0 is off, 1.0 is full.\"), :type(\"number\")}}), :required($[\"\\$brightness\"]), :type(\"object\")}), :strict(Bool::True), :type(\"function\")}"
      ]
     },
     "execution_count": 5,
     "metadata": {},
     "output_type": "execute_result"
    }
   ],
   "source": [
    "#llm-tool-definition(&power-disco-ball-impl, format => 'raku')<function>.raku\n",
    "#llm-tool-definition(&start-music-impl, format => 'raku')<function>.raku\n",
    "llm-tool-definition(&dim-lights-impl, format => 'raku')<function>.raku"
   ]
  },
  {
   "cell_type": "markdown",
   "id": "5c2a68f7",
   "metadata": {},
   "source": [
    "These are the tool descriptions to be communicated to Gemini."
   ]
  },
  {
   "cell_type": "code",
   "execution_count": 6,
   "id": "1d46901e",
   "metadata": {},
   "outputs": [
    {
     "data": {
      "text/plain": [
       "[{description => Powers the spinning disco ball., name => power-disco-ball-impl, parameters => {properties => {$power => {description => Whether to turn the disco ball on or off., type => integer}}, required => [$power], type => object}} {description => Play some music matching the specified parameters., name => start-music-impl, parameters => {properties => {$energetic => {description => Whether the music is energetic or not., type => integer}, $loud => {description => Whether the music is loud or not., type => integer}}, required => [$energetic $loud], type => object}} {description => Dim the lights., name => dim-lights-impl, parameters => {properties => {$brightness => {description => The brightness of the lights, 0.0 is off, 1.0 is full., type => number}}, required => [$brightness], type => object}}]"
      ]
     },
     "execution_count": 6,
     "metadata": {},
     "output_type": "execute_result"
    }
   ],
   "source": [
    "my @tools =\n",
    "{\n",
    "    :name(\"power-disco-ball-impl\"), \n",
    "    :description(\"Powers the spinning disco ball.\"), \n",
    "    :parameters(\n",
    "        {\n",
    "            :type(\"object\")\n",
    "            :properties( {\"\\$power\" => {:description(\"Whether to turn the disco ball on or off.\"), :type(\"integer\")}}), \n",
    "            :required([\"\\$power\"]), \n",
    "        }), \n",
    "},\n",
    "{\n",
    "    :name(\"start-music-impl\"), \n",
    "    :description(\"Play some music matching the specified parameters.\"), \n",
    "    :parameters(\n",
    "        {\n",
    "            :type(\"object\")\n",
    "            :properties({\n",
    "                \"\\$energetic\" => {:description(\"Whether the music is energetic or not.\"), :type(\"integer\")}, \n",
    "                \"\\$loud\" => {:description(\"Whether the music is loud or not.\"), :type(\"integer\")}\n",
    "            }), \n",
    "            :required([\"\\$energetic\", \"\\$loud\"]), \n",
    "        }),\n",
    "},\n",
    "{\n",
    "    :name(\"dim-lights-impl\"), \n",
    "    :description(\"Dim the lights.\"), \n",
    "    :parameters(\n",
    "        {\n",
    "            :type(\"object\")\n",
    "            :properties({\"\\$brightness\" => {:description(\"The brightness of the lights, 0.0 is off, 1.0 is full.\"), :type(\"number\")}}), \n",
    "            :required([\"\\$brightness\"]), \n",
    "        }), \n",
    "};"
   ]
  },
  {
   "cell_type": "markdown",
   "id": "8802e12e",
   "metadata": {},
   "source": [
    "Here are additional tool-mode configurations:"
   ]
  },
  {
   "cell_type": "code",
   "execution_count": 7,
   "id": "e861ccac",
   "metadata": {},
   "outputs": [
    {
     "data": {
      "text/plain": [
       "{functionCallingConfig => {allowedFunctionNames => (power-disco-ball-impl start-music-impl dim-lights-impl), mode => ANY}}"
      ]
     },
     "execution_count": 7,
     "metadata": {},
     "output_type": "execute_result"
    }
   ],
   "source": [
    "my %toolConfig =\n",
    "  functionCallingConfig => {\n",
    "    mode => \"ANY\",\n",
    "    allowedFunctionNames => <power-disco-ball-impl start-music-impl dim-lights-impl>\n",
    "  };"
   ]
  },
  {
   "cell_type": "markdown",
   "id": "9c08feac",
   "metadata": {},
   "source": [
    "### First communication with Gemini"
   ]
  },
  {
   "cell_type": "code",
   "execution_count": 8,
   "id": "90341438",
   "metadata": {},
   "outputs": [
    {
     "data": {
      "text/plain": [
       "[{parts => [text => Turn this place into a party!], role => user}]"
      ]
     },
     "execution_count": 8,
     "metadata": {},
     "output_type": "execute_result"
    }
   ],
   "source": [
    "# User prompt\n",
    "my $prompt = 'Turn this place into a party!';\n",
    "\n",
    "# Prepare the API request payload\n",
    "my @messages = [{role => 'user',parts => [ %( text => $prompt ) ]}, ];"
   ]
  },
  {
   "cell_type": "markdown",
   "id": "e2450a2e",
   "metadata": {},
   "source": [
    "Make the first Gemini API call:"
   ]
  },
  {
   "cell_type": "code",
   "execution_count": 9,
   "id": "2bfc2cb2",
   "metadata": {},
   "outputs": [
    {
     "data": {
      "text/plain": [
       "{candidates => [{avgLogprobs => -0.0012976408004760742, content => {parts => [{functionCall => {args => {$energetic => 1, $loud => 1}, name => start-music-impl}} {functionCall => {args => {$power => 1}, name => power-disco-ball-impl}} {functionCall => {args => {$brightness => 0.5}, name => dim-lights-impl}}], role => model}, finishReason => STOP, safetyRatings => [{category => HARM_CATEGORY_HATE_SPEECH, probability => NEGLIGIBLE} {category => HARM_CATEGORY_DANGEROUS_CONTENT, probability => NEGLIGIBLE} {category => HARM_CATEGORY_HARASSMENT, probability => NEGLIGIBLE} {category => HARM_CATEGORY_SEXUALLY_EXPLICIT, probability => NEGLIGIBLE}]}], modelVersion => gemini-2.0-flash, responseId => CgFFaOybFtWTmecPuOXGmAg, usageMetadata => {candidatesTokenCount => 30, candidatesTokensDetails => [{modality => TEXT, tokenCount => 30}], promptTokenCount => 113, promptTokensDetails => [{modality => TEXT, tokenCount => 113}], totalTokenCount => 143}}"
      ]
     },
     "execution_count": 9,
     "metadata": {},
     "output_type": "execute_result"
    }
   ],
   "source": [
    "my $response = gemini-generate-content(\n",
    "    @messages,\n",
    "    :$model,\n",
    "    :@tools,\n",
    "    :%toolConfig\n",
    ");"
   ]
  },
  {
   "cell_type": "markdown",
   "id": "745bf258",
   "metadata": {},
   "source": [
    "The response is already parsed from JSON to Raku. Here is its JSON form:"
   ]
  },
  {
   "cell_type": "code",
   "execution_count": 10,
   "id": "333b1915",
   "metadata": {},
   "outputs": [
    {
     "data": {
      "text/plain": [
       "{\n",
       "  \"modelVersion\": \"gemini-2.0-flash\",\n",
       "  \"candidates\": [\n",
       "    {\n",
       "      \"content\": {\n",
       "        \"role\": \"model\",\n",
       "        \"parts\": [\n",
       "          {\n",
       "            \"functionCall\": {\n",
       "              \"name\": \"start-music-impl\",\n",
       "              \"args\": {\n",
       "                \"$loud\": 1,\n",
       "                \"$energetic\": 1\n",
       "              }\n",
       "            }\n",
       "          },\n",
       "          {\n",
       "            \"functionCall\": {\n",
       "              \"args\": {\n",
       "                \"$power\": 1\n",
       "              },\n",
       "              \"name\": \"power-disco-ball-impl\"\n",
       "            }\n",
       "          },\n",
       "          {\n",
       "            \"functionCall\": {\n",
       "              \"args\": {\n",
       "                \"$brightness\": 0.5\n",
       "              },\n",
       "              \"name\": \"dim-lights-impl\"\n",
       "            }\n",
       "          }\n",
       "        ]\n",
       "      },\n",
       "      \"safetyRatings\": [\n",
       "        {\n",
       "          \"category\": \"HARM_CATEGORY_HATE_SPEECH\",\n",
       "          \"probability\": \"NEGLIGIBLE\"\n",
       "        },\n",
       "        {\n",
       "          \"probability\": \"NEGLIGIBLE\",\n",
       "          \"category\": \"HARM_CATEGORY_DANGEROUS_CONTENT\"\n",
       "        },\n",
       "        {\n",
       "          \"category\": \"HARM_CATEGORY_HARASSMENT\",\n",
       "          \"probability\": \"NEGLIGIBLE\"\n",
       "        },\n",
       "        {\n",
       "          \"category\": \"HARM_CATEGORY_SEXUALLY_EXPLICIT\",\n",
       "          \"probability\": \"NEGLIGIBLE\"\n",
       "        }\n",
       "      ],\n",
       "      \"avgLogprobs\": -0.0012976408004760742,\n",
       "      \"finishReason\": \"STOP\"\n",
       "    }\n",
       "  ],\n",
       "  \"responseId\": \"CgFFaOybFtWTmecPuOXGmAg\",\n",
       "  \"usageMetadata\": {\n",
       "    \"totalTokenCount\": 143,\n",
       "    \"candidatesTokenCount\": 30,\n",
       "    \"promptTokensDetails\": [\n",
       "      {\n",
       "        \"tokenCount\": 113,\n",
       "        \"modality\": \"TEXT\"\n",
       "      }\n",
       "    ],\n",
       "    \"candidatesTokensDetails\": [\n",
       "      {\n",
       "        \"tokenCount\": 30,\n",
       "        \"modality\": \"TEXT\"\n",
       "      }\n",
       "    ],\n",
       "    \"promptTokenCount\": 113\n",
       "  }\n",
       "}"
      ]
     },
     "execution_count": 10,
     "metadata": {},
     "output_type": "execute_result"
    }
   ],
   "source": [
    "to-json($response)"
   ]
  },
  {
   "cell_type": "markdown",
   "id": "14cfeaf5",
   "metadata": {},
   "source": [
    "### Refine the response with functional calls"
   ]
  },
  {
   "cell_type": "markdown",
   "id": "3da300ea",
   "metadata": {},
   "source": [
    "The following copy of the messages is not required, but it makes repeated experiments easier:"
   ]
  },
  {
   "cell_type": "code",
   "execution_count": 11,
   "id": "d51dc294",
   "metadata": {},
   "outputs": [
    {
     "data": {
      "text/plain": [
       "[{parts => [text => Turn this place into a party!], role => user}]"
      ]
     },
     "execution_count": 11,
     "metadata": {},
     "output_type": "execute_result"
    }
   ],
   "source": [
    "my @messages2 = @messages;"
   ]
  },
  {
   "cell_type": "markdown",
   "id": "b8baf377",
   "metadata": {},
   "source": [
    "Let us define `LLM::Tool` object for each tool:"
   ]
  },
  {
   "cell_type": "code",
   "execution_count": 12,
   "id": "29627b65",
   "metadata": {},
   "outputs": [
    {
     "data": {
      "text/plain": [
       "[LLMTool(power-disco-ball-impl, Powers the spinning disco ball.) LLMTool(start-music-impl, Play some music matching the specified parameters.) LLMTool(dim-lights-impl, Dim the lights.)]"
      ]
     },
     "execution_count": 12,
     "metadata": {},
     "output_type": "execute_result"
    }
   ],
   "source": [
    "my @toolObjects = [&power-disco-ball-impl, &start-music-impl, &dim-lights-impl].map({ LLM::Tool.new($_) })"
   ]
  },
  {
   "cell_type": "markdown",
   "id": "61bc7421",
   "metadata": {},
   "source": [
    "Make a `LLM::Request` object for each request from the (first) LLM response:"
   ]
  },
  {
   "cell_type": "code",
   "execution_count": 13,
   "id": "6c59f0a0",
   "metadata": {},
   "outputs": [
    {
     "data": {
      "text/plain": [
       "[LLMToolRequest(start-music-impl, :$energetic(1), :$loud(1), :id(Whatever)) LLMToolRequest(power-disco-ball-impl, :$power(1), :id(Whatever)) LLMToolRequest(dim-lights-impl, :$brightness(0.5), :id(Whatever))]"
      ]
     },
     "execution_count": 13,
     "metadata": {},
     "output_type": "execute_result"
    }
   ],
   "source": [
    "my @requestObjects = $response<candidates>»<content>»<parts>.&flatten»<functionCall>.map({ LLM::ToolRequest.new( $_<name>, $_<args>) })"
   ]
  },
  {
   "cell_type": "code",
   "execution_count": 14,
   "id": "6a03ac0d",
   "metadata": {},
   "outputs": [
    {
     "name": "stdout",
     "output_type": "stream",
     "text": [
      "{music_type => energetic, volume => loud}\n",
      "{status => Disco ball powered on}\n",
      "{brightness => 0.5}\n"
     ]
    }
   ],
   "source": [
    ".say for @requestObjects.map({ generate-llm-tool-response(@toolObjects, $_) })».output"
   ]
  },
  {
   "cell_type": "code",
   "execution_count": 15,
   "id": "bf7f86ca",
   "metadata": {},
   "outputs": [
    {
     "name": "stdout",
     "output_type": "stream",
     "text": [
      "{functionResponse => {name => start-music-impl, response => {content => {music_type => energetic, volume => loud}}}}\n",
      "{functionResponse => {name => power-disco-ball-impl, response => {content => {status => Disco ball powered on}}}}\n",
      "{functionResponse => {name => dim-lights-impl, response => {content => {brightness => 0.5}}}}\n"
     ]
    }
   ],
   "source": [
    ".say for @requestObjects.map({ generate-llm-tool-response(@toolObjects, $_) })».Hash('Gemini')"
   ]
  },
  {
   "cell_type": "markdown",
   "id": "d6e6f835",
   "metadata": {},
   "source": [
    "Process the response:\n",
    "- Make a request object for each function call request\n",
    "- Compute the tool results\n",
    "- Form corresponding user message with those results\n",
    "- Send the messages to the LLM"
   ]
  },
  {
   "cell_type": "code",
   "execution_count": null,
   "id": "64737cb3",
   "metadata": {},
   "outputs": [
    {
     "name": "stdout",
     "output_type": "stream",
     "text": [
      "Assistant: Alright! I've started some energetic and loud music, turned on the disco ball, and dimmed the lights to 50% brightness. Let's get this party started!\n",
      "\n"
     ]
    }
   ],
   "source": [
    "my $assistant-message = $response<candidates>[0]<content>;\n",
    "if $assistant-message<parts> {\n",
    "\n",
    "    # Find function call parts and make corresponding tool objects\n",
    "    my @requestObjects;\n",
    "    for |$assistant-message<parts> -> %part {\n",
    "        if %part<functionCall> {\n",
    "            @requestObjects.push: LLM::ToolRequest.new( %part<functionCall><name>, %part<functionCall><args> ) \n",
    "        }\n",
    "    }    \n",
    "\n",
    "    # Add assistance message\n",
    "    @messages2.push($assistant-message);\n",
    "\n",
    "    # Compute tool responses\n",
    "    my @funcParts = @requestObjects.map({ generate-llm-tool-response(@toolObjects, $_) })».Hash('Gemini');\n",
    "\n",
    "    # Make and add the user response\n",
    "    my %function-response =\n",
    "        role => 'user',\n",
    "        parts => @funcParts;\n",
    "\n",
    "    @messages2.push(%function-response);\n",
    "                \n",
    "    # Send the second request with function result\n",
    "    my $final-response = gemini-generate-content(\n",
    "        @messages2,\n",
    "        :@tools,\n",
    "        :$model,\n",
    "        format => \"raku\"\n",
    "    );\n",
    "                \n",
    "    say \"Assistant: \", $final-response<candidates>[0]<content><parts>».<text>.join(\"\\n\");\n",
    "\n",
    "} else {\n",
    "    say \"Assistant: $assistant-message<content>\";\n",
    "}"
   ]
  }
 ],
 "metadata": {
  "kernelspec": {
   "display_name": "RakuChatbook",
   "language": "raku",
   "name": "raku"
  },
  "language_info": {
   "file_extension": ".raku",
   "mimetype": "text/x-raku",
   "name": "raku",
   "version": "6.d"
  }
 },
 "nbformat": 4,
 "nbformat_minor": 5
}
