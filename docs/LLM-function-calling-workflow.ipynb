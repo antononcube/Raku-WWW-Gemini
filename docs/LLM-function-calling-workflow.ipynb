{
 "cells": [
  {
   "cell_type": "markdown",
   "id": "4f19be3f",
   "metadata": {},
   "source": [
    "# Using Gemini's Function Calling\n",
    "\n",
    "Anton Antonov   \n",
    "[RakuForPrediction at WordPress](https://rakuforprediction.wordpress.com)   \n",
    "June 2025"
   ]
  },
  {
   "cell_type": "markdown",
   "id": "d5db6a8c",
   "metadata": {},
   "source": [
    "-----\n",
    "\n",
    "## Introduction"
   ]
  },
  {
   "cell_type": "markdown",
   "id": "8b47dbde",
   "metadata": {},
   "source": [
    "This notebook shows how to do [Function Calling](https://ai.google.dev/gemini-api/docs/function-calling) workflows with Large Language Models (LLMs) of Gemini. \n",
    "\n",
    "(The Raku package [\"WWW::Gemini\"](https://github.com/antononcube/Raku-WWW-Gemini) is used.)"
   ]
  },
  {
   "cell_type": "markdown",
   "id": "b0bcc90a",
   "metadata": {},
   "source": [
    "-----\n",
    "\n",
    "## Setup"
   ]
  },
  {
   "cell_type": "markdown",
   "id": "7fe460b7",
   "metadata": {},
   "source": [
    "Load packages:"
   ]
  },
  {
   "cell_type": "code",
   "execution_count": 15,
   "id": "f8afa369",
   "metadata": {},
   "outputs": [],
   "source": [
    "use WWW::Gemini;\n",
    "use JSON::Fast;"
   ]
  },
  {
   "cell_type": "markdown",
   "id": "515092ec",
   "metadata": {},
   "source": [
    "Choose a model:"
   ]
  },
  {
   "cell_type": "code",
   "execution_count": 16,
   "id": "adbe3cca",
   "metadata": {},
   "outputs": [
    {
     "data": {
      "text/plain": [
       "gemini-2.0-flash"
      ]
     },
     "execution_count": 16,
     "metadata": {},
     "output_type": "execute_result"
    }
   ],
   "source": [
    "my $model = \"gemini-2.0-flash\";\n",
    "#my $model = \"gemini-2.5-flash-preview-05-20\";"
   ]
  },
  {
   "cell_type": "markdown",
   "id": "559fdce8",
   "metadata": {},
   "source": [
    "------\n",
    "\n",
    "## Workflow"
   ]
  },
  {
   "cell_type": "markdown",
   "id": "af53047d",
   "metadata": {},
   "source": [
    "### Define a local function"
   ]
  },
  {
   "cell_type": "markdown",
   "id": "db82d074",
   "metadata": {},
   "source": [
    "Define a local function, i.e. _tool_:"
   ]
  },
  {
   "cell_type": "code",
   "execution_count": 17,
   "id": "3e5eda70",
   "metadata": {},
   "outputs": [
    {
     "data": {
      "text/plain": [
       "&get-current-weather"
      ]
     },
     "execution_count": 17,
     "metadata": {},
     "output_type": "execute_result"
    }
   ],
   "source": [
    "sub get-current-weather(Str:D $location, Str:D $unit = \"fahrenheit\") returns Str {\n",
    "    return \"It is currently sunny in $location with a temperature of 72 degrees $unit.\";\n",
    "}"
   ]
  },
  {
   "cell_type": "markdown",
   "id": "5c2a68f7",
   "metadata": {},
   "source": [
    "This is the tool description to be communicated to Gemini."
   ]
  },
  {
   "cell_type": "code",
   "execution_count": 18,
   "id": "1d46901e",
   "metadata": {},
   "outputs": [
    {
     "data": {
      "text/plain": [
       "{description => Get the current weather in a given location, name => get-current-weather, parameters => {properties => {location => {description => The city and state, e.g., Boston, MA, type => string}}, required => [location], type => object}}"
      ]
     },
     "execution_count": 18,
     "metadata": {},
     "output_type": "execute_result"
    }
   ],
   "source": [
    "my %weather-function = %(\n",
    "    name => 'get-current-weather',\n",
    "    description => 'Get the current weather in a given location',\n",
    "    parameters => %(\n",
    "        type => 'object',\n",
    "        properties => %(\n",
    "            location => %(\n",
    "                type => 'string',\n",
    "                description => 'The city and state, e.g., Boston, MA'\n",
    "            )\n",
    "        ),\n",
    "        required => ['location']\n",
    "    )\n",
    ");"
   ]
  },
  {
   "cell_type": "markdown",
   "id": "9c08feac",
   "metadata": {},
   "source": [
    "### First communication with Gemini"
   ]
  },
  {
   "cell_type": "code",
   "execution_count": 19,
   "id": "90341438",
   "metadata": {},
   "outputs": [
    {
     "data": {
      "text/plain": [
       "[{description => Get the current weather in a given location, name => get-current-weather, parameters => {properties => {location => {description => The city and state, e.g., Boston, MA, type => string}}, required => [location], type => object}}]"
      ]
     },
     "execution_count": 19,
     "metadata": {},
     "output_type": "execute_result"
    }
   ],
   "source": [
    "# User prompt\n",
    "my $prompt = 'What is the weather like in Boston, MA, USA?';\n",
    "\n",
    "# Prepare the API request payload\n",
    "my @messages = [{role => 'user',parts => [ %( text => $prompt ) ]}, ];\n",
    "\n",
    "my @tools = [%weather-function, ];"
   ]
  },
  {
   "cell_type": "markdown",
   "id": "e2450a2e",
   "metadata": {},
   "source": [
    "Make the first Gemini API call:"
   ]
  },
  {
   "cell_type": "code",
   "execution_count": null,
   "id": "2bfc2cb2",
   "metadata": {},
   "outputs": [
    {
     "data": {
      "text/plain": [
       "{candidates => [{avgLogprobs => -3.7914659414026473e-06, content => {parts => [{functionCall => {args => {location => Boston, MA}, name => get-current-weather}}], role => model}, finishReason => STOP, safetyRatings => [{category => HARM_CATEGORY_HATE_SPEECH, probability => NEGLIGIBLE} {category => HARM_CATEGORY_DANGEROUS_CONTENT, probability => NEGLIGIBLE} {category => HARM_CATEGORY_HARASSMENT, probability => NEGLIGIBLE} {category => HARM_CATEGORY_SEXUALLY_EXPLICIT, probability => NEGLIGIBLE}]}], modelVersion => gemini-2.0-flash, responseId => pVQ-aPvHEdHB7dcPwf7a4QY, usageMetadata => {candidatesTokenCount => 9, candidatesTokensDetails => [{modality => TEXT, tokenCount => 9}], promptTokenCount => 41, promptTokensDetails => [{modality => TEXT, tokenCount => 41}], totalTokenCount => 50}}"
      ]
     },
     "execution_count": 20,
     "metadata": {},
     "output_type": "execute_result"
    }
   ],
   "source": [
    "my $response = gemini-generate-content(\n",
    "    @messages,\n",
    "    :$model,\n",
    "    :@tools\n",
    ");"
   ]
  },
  {
   "cell_type": "markdown",
   "id": "745bf258",
   "metadata": {},
   "source": [
    "The response is already parsed from JSON to Raku. Here is its JSON form:"
   ]
  },
  {
   "cell_type": "code",
   "execution_count": 21,
   "id": "333b1915",
   "metadata": {},
   "outputs": [
    {
     "data": {
      "text/plain": [
       "{\n",
       "  \"modelVersion\": \"gemini-2.0-flash\",\n",
       "  \"candidates\": [\n",
       "    {\n",
       "      \"avgLogprobs\": -3.7914659414026473e-06,\n",
       "      \"safetyRatings\": [\n",
       "        {\n",
       "          \"category\": \"HARM_CATEGORY_HATE_SPEECH\",\n",
       "          \"probability\": \"NEGLIGIBLE\"\n",
       "        },\n",
       "        {\n",
       "          \"probability\": \"NEGLIGIBLE\",\n",
       "          \"category\": \"HARM_CATEGORY_DANGEROUS_CONTENT\"\n",
       "        },\n",
       "        {\n",
       "          \"category\": \"HARM_CATEGORY_HARASSMENT\",\n",
       "          \"probability\": \"NEGLIGIBLE\"\n",
       "        },\n",
       "        {\n",
       "          \"probability\": \"NEGLIGIBLE\",\n",
       "          \"category\": \"HARM_CATEGORY_SEXUALLY_EXPLICIT\"\n",
       "        }\n",
       "      ],\n",
       "      \"finishReason\": \"STOP\",\n",
       "      \"content\": {\n",
       "        \"role\": \"model\",\n",
       "        \"parts\": [\n",
       "          {\n",
       "            \"functionCall\": {\n",
       "              \"name\": \"get-current-weather\",\n",
       "              \"args\": {\n",
       "                \"location\": \"Boston, MA\"\n",
       "              }\n",
       "            }\n",
       "          }\n",
       "        ]\n",
       "      }\n",
       "    }\n",
       "  ],\n",
       "  \"usageMetadata\": {\n",
       "    \"candidatesTokenCount\": 9,\n",
       "    \"promptTokenCount\": 41,\n",
       "    \"candidatesTokensDetails\": [\n",
       "      {\n",
       "        \"tokenCount\": 9,\n",
       "        \"modality\": \"TEXT\"\n",
       "      }\n",
       "    ],\n",
       "    \"totalTokenCount\": 50,\n",
       "    \"promptTokensDetails\": [\n",
       "      {\n",
       "        \"tokenCount\": 41,\n",
       "        \"modality\": \"TEXT\"\n",
       "      }\n",
       "    ]\n",
       "  },\n",
       "  \"responseId\": \"pVQ-aPvHEdHB7dcPwf7a4QY\"\n",
       "}"
      ]
     },
     "execution_count": 21,
     "metadata": {},
     "output_type": "execute_result"
    }
   ],
   "source": [
    "to-json($response)"
   ]
  },
  {
   "cell_type": "markdown",
   "id": "14cfeaf5",
   "metadata": {},
   "source": [
    "### Refine the response with functional calls"
   ]
  },
  {
   "cell_type": "markdown",
   "id": "3da300ea",
   "metadata": {},
   "source": [
    "The following copy of the messages is not required, but it makes repeated experiments easier:"
   ]
  },
  {
   "cell_type": "code",
   "execution_count": 42,
   "id": "d51dc294",
   "metadata": {},
   "outputs": [
    {
     "data": {
      "text/plain": [
       "[{parts => [text => What is the weather like in Boston, MA, USA?], role => user}]"
      ]
     },
     "execution_count": 42,
     "metadata": {},
     "output_type": "execute_result"
    }
   ],
   "source": [
    "my @messages2 = @messages;"
   ]
  },
  {
   "cell_type": "markdown",
   "id": "d6e6f835",
   "metadata": {},
   "source": [
    "Process the response -- invoke the tool, give the tool result to the LLM, get the LLM answer:"
   ]
  },
  {
   "cell_type": "code",
   "execution_count": null,
   "id": "64737cb3",
   "metadata": {},
   "outputs": [
    {
     "name": "stdout",
     "output_type": "stream",
     "text": [
      "Assistant: :The weather in Boston, MA is currently sunny with a temperature of 72 degrees Fahrenheit.\n",
      "\n"
     ]
    }
   ],
   "source": [
    "my $assistant-message = $response<candidates>[0]<content>;\n",
    "if $assistant-message<parts> {\n",
    "\n",
    "    for |$assistant-message<parts> -> %part {\n",
    "        if %part<functionCall> {\n",
    "            \n",
    "            @messages2.push($assistant-message);\n",
    "\n",
    "            my $func-name = %part<functionCall><name>;\n",
    "            my %args = %part<functionCall><args>;\n",
    "\n",
    "            \n",
    "            if $func-name eq 'get-current-weather' {\n",
    "                my $location = %args<location>;\n",
    "                my $weather = get-current-weather($location);\n",
    "\n",
    "                my %function-response =\n",
    "                            role => 'user',\n",
    "                            parts => [{ \n",
    "                                functionResponse => {\n",
    "                                    name => 'get-current-weather',\n",
    "                                    response => %( content => $weather )\n",
    "                                } \n",
    "                            }];\n",
    "\n",
    "                @messages2.push(%function-response);\n",
    "                \n",
    "                # Send the second request with function result\n",
    "                my $final-response = gemini-generate-content(\n",
    "                    @messages2,\n",
    "                    :@tools,\n",
    "                    :$model,\n",
    "                    format => \"raku\"\n",
    "                );\n",
    "                \n",
    "                say \"Assistant: \", $final-response<candidates>[0]<content><parts>».<text>.join(\"\\n\");\n",
    "            }\n",
    "        }\n",
    "    }\n",
    "} else {\n",
    "    say \"Assistant: $assistant-message<content>\";\n",
    "}"
   ]
  }
 ],
 "metadata": {
  "kernelspec": {
   "display_name": "RakuChatbook",
   "language": "raku",
   "name": "raku"
  },
  "language_info": {
   "file_extension": ".raku",
   "mimetype": "text/x-raku",
   "name": "raku",
   "version": "6.d"
  }
 },
 "nbformat": 4,
 "nbformat_minor": 5
}
